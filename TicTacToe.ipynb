{
  "nbformat": 4,
  "nbformat_minor": 0,
  "metadata": {
    "colab": {
      "name": "TicTacToe.ipynb",
      "provenance": [],
      "collapsed_sections": []
    },
    "kernelspec": {
      "name": "python3",
      "display_name": "Python 3"
    },
    "language_info": {
      "name": "python"
    }
  },
  "cells": [
    {
      "cell_type": "markdown",
      "source": [
        "# **TIC TAC TOE GAME USING NUMPY ARRAYS**\n"
      ],
      "metadata": {
        "id": "rPVohh-q5jbA"
      }
    },
    {
      "cell_type": "code",
      "source": [
        "import numpy as np\n",
        "import random"
      ],
      "metadata": {
        "id": "3XqgB0lz5zne"
      },
      "execution_count": 1,
      "outputs": []
    },
    {
      "cell_type": "code",
      "source": [
        "# Creates blank 3x3 array. Randomizes who goes first.\n",
        "\n",
        "def initialize():\n",
        "    global board_arr\n",
        "    global tutorial_arr\n",
        "    \n",
        "    # 0's act as O's\n",
        "    # 1's act as X's\n",
        "    # 3's act as placeholders for blank spots\n",
        "    board_arr = np.array([[3, 3, 3],\n",
        "                          [3, 3, 3],\n",
        "                          [3, 3, 3]])\n",
        "    tutorial_arr = np.array([[1, 2, 3],\n",
        "                             [4, 5, 6],\n",
        "                             [7, 8, 9]])\n",
        "    \n",
        "    global user_num\n",
        "    global comp_num\n",
        "    \n",
        "    # toss to see who goes first with X's\n",
        "    toss = np.random.randint(0, 2)\n",
        "    if  toss == 0:\n",
        "        user_num = 0\n",
        "        comp_num = 1\n",
        "        print(\"Computer goes first. Your letter is O.\")\n",
        "        comp_turn()\n",
        "        \n",
        "    elif toss == 1:\n",
        "        user_num = 1\n",
        "        comp_num = 0\n",
        "        print(\"You go first. Your letter is X.\")\n",
        "        user_turn()   "
      ],
      "metadata": {
        "id": "dEwZ4l7K53Tr"
      },
      "execution_count": 2,
      "outputs": []
    },
    {
      "cell_type": "code",
      "source": [
        "# Converts internal numpy array into a visual ASCII board.       \n",
        "def display_board():\n",
        "    board_list = []\n",
        "    \n",
        "    # loops through flattened board array to scan for 0's, 1's and 3's\n",
        "    # converts them into O's, X's, and blank spots\n",
        "    internal_arr = board_arr.flatten()\n",
        "    for i in range(0, 9):\n",
        "        if internal_arr[i] == 0:\n",
        "            board_list.append('O')\n",
        "        elif internal_arr[i] == 1:\n",
        "            board_list.append('X')\n",
        "        elif internal_arr[i] == 3:\n",
        "            board_list.append(' ')\n",
        "        else:\n",
        "            raise Exception(\"display_board Error\")\n",
        "    \n",
        "# inputs O's, X's, and blank spots into an ASCII tictactoe board\n",
        "    print(\"\"\"\n",
        " {} | {} | {}\n",
        "---+---+---\n",
        " {} | {} | {}\n",
        "---+---+---\n",
        " {} | {} | {}\n",
        "\n",
        "\"\"\".format(*board_list))\n",
        "  "
      ],
      "metadata": {
        "id": "luMC71gS6joW"
      },
      "execution_count": 8,
      "outputs": []
    },
    {
      "cell_type": "code",
      "source": [
        "def return_open_slots():\n",
        "# Checks for open slots using Boolean arrays.\n",
        "# Important when checking for winner (if draw) and checking if user's input...\n",
        "# ...is valid\n",
        "    open_slots = []\n",
        "\n",
        "    bool_arr = (board_arr == 3)\n",
        "    flat_bool_arr = bool_arr.flatten()\n",
        "    \n",
        "    # is spot taken by 3's? If so, then spot is open.\n",
        "    # appends (i + 1) because inputs are indexed to 1\n",
        "    for i in range(0, len(flat_bool_arr)):\n",
        "        if flat_bool_arr[i] == True:\n",
        "            open_slots.append(i + 1)\n",
        "            \n",
        "    return open_slots"
      ],
      "metadata": {
        "id": "kD3cDOKr7xt9"
      },
      "execution_count": 9,
      "outputs": []
    },
    {
      "cell_type": "code",
      "source": [
        "def terminate(last_played_num):\n",
        "# if last played number is user's number, declares user to be winner\n",
        "# if last played number is comp's number, declares comp to be winner\n",
        "# if return_open_slots() came up blank, declares draw\n",
        "    if last_played_num == user_num:\n",
        "        print(\"You win!\")\n",
        "    elif last_played_num == comp_num:\n",
        "        print(\"You lost!\")\n",
        "    elif last_played_num == \"Draw!\":\n",
        "        print(\"Draw!\")\n",
        "        \n",
        "    input(\"Play again? \\nPress Enter to play again.\")\n",
        "    initialize()"
      ],
      "metadata": {
        "id": "4dU6ovZh74lm"
      },
      "execution_count": 10,
      "outputs": []
    },
    {
      "cell_type": "code",
      "source": [
        "def check_for_winner(last_played_num):\n",
        "# Scans rows, columns, and diagonals for last-played number\n",
        "# Ex. if 1 was the last number played, this function would scan for 1's\n",
        "# Declares draw is open_slots is blank\n",
        "# Else proceeds to next turn\n",
        "\n",
        "    if return_open_slots == []:\n",
        "    # Checks if no open slots\n",
        "        terminate(\"Draw!\")\n",
        "        \n",
        "    for i in range(0, 3):\n",
        "    # Checks rows and columns for match\n",
        "        rows_win = (board_arr[i, :] == last_played_num).all()\n",
        "        cols_win = (board_arr[:, i] == last_played_num).all()\n",
        "        \n",
        "        if rows_win or cols_win:\n",
        "            terminate(last_played_num)\n",
        "            \n",
        "    diag1_win = (np.diag(board_arr) == last_played_num).all()\n",
        "    diag2_win = (np.diag(np.fliplr(board_arr)) == last_played_num).all()\n",
        "    \n",
        "    if diag1_win or diag2_win:\n",
        "    # Checks both diagonals for match\n",
        "        terminate(last_played_num)\n",
        "            \n",
        "    next_turn(last_played_num)"
      ],
      "metadata": {
        "id": "R7-Q60w178My"
      },
      "execution_count": 11,
      "outputs": []
    },
    {
      "cell_type": "code",
      "source": [
        "def next_turn(last_played_num):\n",
        "    if last_played_num == user_num:\n",
        "        comp_turn()\n",
        "    elif last_played_num == comp_num:\n",
        "        user_turn()\n"
      ],
      "metadata": {
        "id": "zRuO0kD48ZDv"
      },
      "execution_count": 12,
      "outputs": []
    },
    {
      "cell_type": "code",
      "source": [
        "def place_letter(current_num, current_input):\n",
        "# Takes comp_num and comp_choice (or user_num and user_choice)...\n",
        "# ...and inputs that into the global board_arr\n",
        "# Current_input is either randomly chosen by computer or input by user\n",
        "# Current_num is either user_num or comp_num\n",
        "    index = np.where(tutorial_arr == current_input)\n",
        "    board_arr[index] = current_num"
      ],
      "metadata": {
        "id": "p-amDwJc8cAv"
      },
      "execution_count": 13,
      "outputs": []
    },
    {
      "cell_type": "code",
      "source": [
        "def user_turn():\n",
        "    display_board()\n",
        "    \n",
        "    user_input = input(\"Pick an open slot: \")\n",
        "    user_input = int(user_input)\n",
        "    \n",
        "    if user_input in return_open_slots():\n",
        "        place_letter(user_num, user_input)\n",
        "    else:\n",
        "        print(\"That's not a open slots.\")\n",
        "        user_turn()\n",
        "        \n",
        "    check_for_winner(user_num)"
      ],
      "metadata": {
        "id": "hl_Wr9RE8j2U"
      },
      "execution_count": 14,
      "outputs": []
    },
    {
      "cell_type": "code",
      "source": [
        "def comp_turn():\n",
        "# Randomly chooses from open_slots to place its letter    \n",
        "    open_slots = return_open_slots()\n",
        "    comp_input = random.choice(open_slots)\n",
        "    place_letter(comp_num, comp_input)\n",
        "    check_for_winner(comp_num)\n",
        "    \n",
        "\n",
        "initialize()\n"
      ],
      "metadata": {
        "colab": {
          "base_uri": "https://localhost:8080/"
        },
        "id": "mFkEa2YG8os3",
        "outputId": "5358e532-d39e-483a-cf18-f81dd5a65887"
      },
      "execution_count": null,
      "outputs": [
        {
          "output_type": "stream",
          "name": "stdout",
          "text": [
            "Computer goes first. Your letter is O.\n",
            "\n",
            "   |   |  \n",
            "---+---+---\n",
            "   |   |  \n",
            "---+---+---\n",
            "   |   | X\n",
            "\n",
            "\n",
            "Pick an open slot: 1\n",
            "\n",
            " O |   | X\n",
            "---+---+---\n",
            "   |   |  \n",
            "---+---+---\n",
            "   |   | X\n",
            "\n",
            "\n",
            "Pick an open slot: 6\n",
            "\n",
            " O |   | X\n",
            "---+---+---\n",
            "   |   | O\n",
            "---+---+---\n",
            " X |   | X\n",
            "\n",
            "\n",
            "Pick an open slot: 8\n",
            "\n",
            " O | X | X\n",
            "---+---+---\n",
            "   |   | O\n",
            "---+---+---\n",
            " X | O | X\n",
            "\n",
            "\n",
            "Pick an open slot: 4\n",
            "You lost!\n",
            "Play again? \n",
            "Press Enter to play again.\n",
            "Computer goes first. Your letter is O.\n",
            "\n",
            "   |   |  \n",
            "---+---+---\n",
            "   |   |  \n",
            "---+---+---\n",
            "   |   | X\n",
            "\n",
            "\n",
            "Pick an open slot: 1\n",
            "\n",
            " O |   |  \n",
            "---+---+---\n",
            " X |   |  \n",
            "---+---+---\n",
            "   |   | X\n",
            "\n",
            "\n",
            "Pick an open slot: 2\n",
            "\n",
            " O | O |  \n",
            "---+---+---\n",
            " X |   | X\n",
            "---+---+---\n",
            "   |   | X\n",
            "\n",
            "\n",
            "Pick an open slot: 3\n",
            "You win!\n"
          ]
        }
      ]
    },
    {
      "cell_type": "code",
      "source": [
        ""
      ],
      "metadata": {
        "id": "Vj0Yati88uau"
      },
      "execution_count": null,
      "outputs": []
    }
  ]
}